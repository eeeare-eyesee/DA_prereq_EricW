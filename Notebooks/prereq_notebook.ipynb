{
 "cells": [
  {
   "cell_type": "markdown",
   "id": "bd993da3",
   "metadata": {},
   "source": [
    "#Introduction to Myself\n",
    "My name is Eric, I live in Louisville, and this is my first time taking couses with Code:You. I have wanted to learn more about using python to do data analysis and learn about any other tools mentioned in this course. I'm very excited to get started!"
   ]
  },
  {
   "cell_type": "code",
   "execution_count": 1,
   "id": "818c5d05",
   "metadata": {},
   "outputs": [
    {
     "name": "stdout",
     "output_type": "stream",
     "text": [
      "Hello World from Eric\n"
     ]
    }
   ],
   "source": [
    "print(\"Hello World from Eric\")"
   ]
  }
 ],
 "metadata": {
  "kernelspec": {
   "display_name": "Python 3",
   "language": "python",
   "name": "python3"
  },
  "language_info": {
   "codemirror_mode": {
    "name": "ipython",
    "version": 3
   },
   "file_extension": ".py",
   "mimetype": "text/x-python",
   "name": "python",
   "nbconvert_exporter": "python",
   "pygments_lexer": "ipython3",
   "version": "3.13.5"
  }
 },
 "nbformat": 4,
 "nbformat_minor": 5
}
